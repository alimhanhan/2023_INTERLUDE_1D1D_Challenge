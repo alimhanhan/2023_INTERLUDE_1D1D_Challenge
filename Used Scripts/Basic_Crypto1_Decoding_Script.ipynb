{
  "nbformat": 4,
  "nbformat_minor": 0,
  "metadata": {
    "colab": {
      "provenance": []
    },
    "kernelspec": {
      "name": "python3",
      "display_name": "Python 3"
    },
    "language_info": {
      "name": "python"
    }
  },
  "cells": [
    {
      "cell_type": "code",
      "execution_count": 2,
      "metadata": {
        "colab": {
          "base_uri": "https://localhost:8080/"
        },
        "id": "jdblrWU91Lbj",
        "outputId": "fa1252c5-b934-4f06-b885-36ff116eba4c"
      },
      "outputs": [
        {
          "output_type": "stream",
          "name": "stdout",
          "text": [
            "Shift 1: DCUKE ETARVQ FTGCOJCEM\n",
            "Shift 2: CBTJD DSZQUP ESFBNIBDL\n",
            "Shift 3: BASIC CRYPTO DREAMHACK\n",
            "Shift 4: AZRHB BQXOSN CQDZLGZBJ\n",
            "Shift 5: ZYQGA APWNRM BPCYKFYAI\n",
            "Shift 6: YXPFZ ZOVMQL AOBXJEXZH\n",
            "Shift 7: XWOEY YNULPK ZNAWIDWYG\n",
            "Shift 8: WVNDX XMTKOJ YMZVHCVXF\n",
            "Shift 9: VUMCW WLSJNI XLYUGBUWE\n",
            "Shift 10: UTLBV VKRIMH WKXTFATVD\n",
            "Shift 11: TSKAU UJQHLG VJWSEZSUC\n",
            "Shift 12: SRJZT TIPGKF UIVRDYRTB\n",
            "Shift 13: RQIYS SHOFJE THUQCXQSA\n",
            "Shift 14: QPHXR RGNEID SGTPBWPRZ\n",
            "Shift 15: POGWQ QFMDHC RFSOAVOQY\n",
            "Shift 16: ONFVP PELCGB QERNZUNPX\n",
            "Shift 17: NMEUO ODKBFA PDQMYTMOW\n",
            "Shift 18: MLDTN NCJAEZ OCPLXSLNV\n",
            "Shift 19: LKCSM MBIZDY NBOKWRKMU\n",
            "Shift 20: KJBRL LAHYCX MANJVQJLT\n",
            "Shift 21: JIAQK KZGXBW LZMIUPIKS\n",
            "Shift 22: IHZPJ JYFWAV KYLHTOHJR\n",
            "Shift 23: HGYOI IXEVZU JXKGSNGIQ\n",
            "Shift 24: GFXNH HWDUYT IWJFRMFHP\n",
            "Shift 25: FEWMG GVCTXS HVIEQLEGO\n"
          ]
        }
      ],
      "source": [
        "def caesar_decrypt(ciphertext, shift):\n",
        "    decrypted_text = \"\"  # 해독된 텍스트를 저장할 변수 초기화\n",
        "\n",
        "    for char in ciphertext:\n",
        "        if char.isalpha():  # 알파벳인지 확인\n",
        "            ascii_offset = ord('A') if char.isupper() else ord('a')  # 대문자와 소문자의 ASCII 코드 시작값을 결정\n",
        "            decrypted_char = chr((ord(char) - ascii_offset - shift) % 26 + ascii_offset)\n",
        "            # 암호문 문자의 ASCII 코드 값에서 시작값을 뺀 뒤, 시저 암호의 키를 뺀 값에 대한 모듈로 연산 수행 후 다시 시작값을 더하여 해독 문자 구함\n",
        "            decrypted_text += decrypted_char  # 해독 문자를 해독된 텍스트에 추가\n",
        "        else:\n",
        "            decrypted_text += char  # 알파벳이 아니라면 그대로 추가 (공백, 특수문자 등)\n",
        "\n",
        "    return decrypted_text  # 전체 문장을 해독하여 반환\n",
        "\n",
        "ciphertext = \"EDVLF FUBSWR GUHDPKDFN\"  # 암호문\n",
        "for shift in range(1, 26):  # 모든 가능한 암호 키에 대해 반복\n",
        "    decrypted_message = caesar_decrypt(ciphertext, shift)  # 해당 암호 키로 암호문 해독\n",
        "    print(f\"Shift {shift}: {decrypted_message}\")  # 암호 키와 해당 키로 해독된 결과 출력"
      ]
    }
  ]
}