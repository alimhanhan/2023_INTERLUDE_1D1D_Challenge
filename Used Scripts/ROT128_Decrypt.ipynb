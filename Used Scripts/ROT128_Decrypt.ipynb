{
  "nbformat": 4,
  "nbformat_minor": 0,
  "metadata": {
    "colab": {
      "provenance": []
    },
    "kernelspec": {
      "name": "python3",
      "display_name": "Python 3"
    },
    "language_info": {
      "name": "python"
    }
  },
  "cells": [
    {
      "cell_type": "code",
      "source": [
        "def decrypt(hex_str):\n",
        "    hex_list = [(hex(i)[2:].zfill(2).upper()) for i in range(256)]\n",
        "\n",
        "    # 문자열을 2개씩 잘라 리스트로 변환\n",
        "    enc_list = [hex_str[i:i+2] for i in range(0, len(hex_str), 2)]\n",
        "\n",
        "    # 복호화된 값을 저장할 리스트 초기화\n",
        "    dec_list = list(range(len(enc_list)))\n",
        "\n",
        "    # 암호화 과정을 거꾸로 수행\n",
        "    for i in range(len(enc_list)):\n",
        "        hex_b = enc_list[i]\n",
        "        index = hex_list.index(hex_b)\n",
        "        dec_list[i] = hex_list[(index - 128) % len(hex_list)]\n",
        "\n",
        "    # 리스트를 문자열로 변환\n",
        "    dec_str = ''.join(dec_list)\n",
        "\n",
        "    # 16진수 문자열을 바이트 데이터로 변환\n",
        "    decoded_data = bytes.fromhex(dec_str)\n",
        "\n",
        "    return decoded_data\n",
        "\n",
        "\n",
        "def main():\n",
        "    # encfile 읽기\n",
        "    with open('/content/encfile', 'r', encoding='utf-8') as f:\n",
        "        enc_str = f.read()\n",
        "\n",
        "    # 암호화된 문자열을 복호화하여 바이트 데이터로 얻기\n",
        "    decrypted_data = decrypt(enc_str)\n",
        "\n",
        "    # 바이트 데이터를 'flag.png' 파일로 저장\n",
        "    with open('/content/flag.png', 'wb') as f:\n",
        "        f.write(decrypted_data)\n",
        "\n",
        "if __name__ == \"__main__\":\n",
        "    main()\n"
      ],
      "metadata": {
        "id": "NWwtamzUlGFJ"
      },
      "execution_count": null,
      "outputs": []
    }
  ]
}